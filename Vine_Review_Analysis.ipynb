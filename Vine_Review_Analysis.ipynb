{
 "cells": [
  {
   "cell_type": "code",
   "execution_count": 8,
   "id": "bb2caeba",
   "metadata": {},
   "outputs": [],
   "source": [
    "#Dependencies\n",
    "import pandas as pd\n",
    "import numpy as np"
   ]
  },
  {
   "cell_type": "code",
   "execution_count": 39,
   "id": "1ecca997",
   "metadata": {},
   "outputs": [
    {
     "data": {
      "text/plain": [
       "R15JJSRQ79G29N    1\n",
       "R39P5KOTZZXJV4    1\n",
       "R29AYDUSAAMAOK    1\n",
       "R2H0RHHAM2TU3L    1\n",
       "R2FSYL5AZKVIUF    1\n",
       "                 ..\n",
       "R1FD2DKE5RWKP7    1\n",
       "R3C6IEON1PI4A0    1\n",
       "R1KIK04S2G07K2    1\n",
       "R2DQF8YQBBJ6YF    1\n",
       "RP09FLC96KUPP     1\n",
       "Name: review_id, Length: 1048575, dtype: int64"
      ]
     },
     "execution_count": 39,
     "metadata": {},
     "output_type": "execute_result"
    }
   ],
   "source": [
    "#Read in Vine Table CSV file \n",
    "vine_table_data = pd.read_csv(\"Vine_table_challenge.csv\")\n",
    "vine_df = vine_table_data\n",
    "vine_df.head()\n",
    "vine_df[\"review_id\"].value_counts()"
   ]
  },
  {
   "cell_type": "code",
   "execution_count": 38,
   "id": "91831917",
   "metadata": {},
   "outputs": [
    {
     "data": {
      "text/plain": [
       "R23MTEWZITYY4K    1\n",
       "R1AV6MISAZHRZD    1\n",
       "R1415A2LSBFLIB    1\n",
       "R1PMKFFD1HQSA7    1\n",
       "R2XEFE9K9XMXJF    1\n",
       "                 ..\n",
       "R3SKYPACNW6PG3    1\n",
       "RAT95FM6MK5O3     1\n",
       "R1NBLLNXVKTPI7    1\n",
       "R2Y6OCM9IEH9QO    1\n",
       "R1RI21G1M2BOL5    1\n",
       "Name: review_id, Length: 5139, dtype: int64"
      ]
     },
     "execution_count": 38,
     "metadata": {},
     "output_type": "execute_result"
    }
   ],
   "source": [
    "#Filter dataframe to include reviews with over 20 votes\n",
    "vine_total_votes_df = vine_df.loc[(vine_df[\"total_votes\"] >= 20)]\n",
    "vine_total_votes_df.head()"
   ]
  },
  {
   "cell_type": "code",
   "execution_count": 20,
   "id": "c4aa4d33",
   "metadata": {},
   "outputs": [
    {
     "data": {
      "text/html": [
       "<div>\n",
       "<style scoped>\n",
       "    .dataframe tbody tr th:only-of-type {\n",
       "        vertical-align: middle;\n",
       "    }\n",
       "\n",
       "    .dataframe tbody tr th {\n",
       "        vertical-align: top;\n",
       "    }\n",
       "\n",
       "    .dataframe thead th {\n",
       "        text-align: right;\n",
       "    }\n",
       "</style>\n",
       "<table border=\"1\" class=\"dataframe\">\n",
       "  <thead>\n",
       "    <tr style=\"text-align: right;\">\n",
       "      <th></th>\n",
       "      <th>review_id</th>\n",
       "      <th>star_rating</th>\n",
       "      <th>helpful_votes</th>\n",
       "      <th>total_votes</th>\n",
       "      <th>vine</th>\n",
       "      <th>verified_purchase</th>\n",
       "    </tr>\n",
       "  </thead>\n",
       "  <tbody>\n",
       "    <tr>\n",
       "      <th>168</th>\n",
       "      <td>R2SHXRL6SL1GC9</td>\n",
       "      <td>3.0</td>\n",
       "      <td>25.0</td>\n",
       "      <td>26.0</td>\n",
       "      <td>N</td>\n",
       "      <td>Y</td>\n",
       "    </tr>\n",
       "    <tr>\n",
       "      <th>521</th>\n",
       "      <td>R2ZC033X86YOY8</td>\n",
       "      <td>5.0</td>\n",
       "      <td>25.0</td>\n",
       "      <td>26.0</td>\n",
       "      <td>N</td>\n",
       "      <td>N</td>\n",
       "    </tr>\n",
       "    <tr>\n",
       "      <th>761</th>\n",
       "      <td>R2736RJGCOSL80</td>\n",
       "      <td>5.0</td>\n",
       "      <td>19.0</td>\n",
       "      <td>20.0</td>\n",
       "      <td>N</td>\n",
       "      <td>Y</td>\n",
       "    </tr>\n",
       "    <tr>\n",
       "      <th>1163</th>\n",
       "      <td>RRY5DJ6J9BKAX</td>\n",
       "      <td>5.0</td>\n",
       "      <td>19.0</td>\n",
       "      <td>21.0</td>\n",
       "      <td>N</td>\n",
       "      <td>Y</td>\n",
       "    </tr>\n",
       "    <tr>\n",
       "      <th>1169</th>\n",
       "      <td>R2P4PJJ2ROTPBM</td>\n",
       "      <td>5.0</td>\n",
       "      <td>46.0</td>\n",
       "      <td>48.0</td>\n",
       "      <td>N</td>\n",
       "      <td>N</td>\n",
       "    </tr>\n",
       "  </tbody>\n",
       "</table>\n",
       "</div>"
      ],
      "text/plain": [
       "           review_id  star_rating  helpful_votes  total_votes vine  \\\n",
       "168   R2SHXRL6SL1GC9          3.0           25.0         26.0    N   \n",
       "521   R2ZC033X86YOY8          5.0           25.0         26.0    N   \n",
       "761   R2736RJGCOSL80          5.0           19.0         20.0    N   \n",
       "1163   RRY5DJ6J9BKAX          5.0           19.0         21.0    N   \n",
       "1169  R2P4PJJ2ROTPBM          5.0           46.0         48.0    N   \n",
       "\n",
       "     verified_purchase  \n",
       "168                  Y  \n",
       "521                  N  \n",
       "761                  Y  \n",
       "1163                 Y  \n",
       "1169                 N  "
      ]
     },
     "execution_count": 20,
     "metadata": {},
     "output_type": "execute_result"
    }
   ],
   "source": [
    "#Filter earlier dataframe to get rows where helpful votes divided by total votes is >= 50%\n",
    "fifty_df = vine_total_votes_df.loc[(vine_total_votes_df[\"helpful_votes\"]/ vine_total_votes_df[\"total_votes\"] >= 0.5)]\n",
    "fifty_df.head()"
   ]
  },
  {
   "cell_type": "code",
   "execution_count": 23,
   "id": "fae7030d",
   "metadata": {},
   "outputs": [
    {
     "data": {
      "text/html": [
       "<div>\n",
       "<style scoped>\n",
       "    .dataframe tbody tr th:only-of-type {\n",
       "        vertical-align: middle;\n",
       "    }\n",
       "\n",
       "    .dataframe tbody tr th {\n",
       "        vertical-align: top;\n",
       "    }\n",
       "\n",
       "    .dataframe thead th {\n",
       "        text-align: right;\n",
       "    }\n",
       "</style>\n",
       "<table border=\"1\" class=\"dataframe\">\n",
       "  <thead>\n",
       "    <tr style=\"text-align: right;\">\n",
       "      <th></th>\n",
       "      <th>review_id</th>\n",
       "      <th>star_rating</th>\n",
       "      <th>helpful_votes</th>\n",
       "      <th>total_votes</th>\n",
       "      <th>vine</th>\n",
       "      <th>verified_purchase</th>\n",
       "    </tr>\n",
       "  </thead>\n",
       "  <tbody>\n",
       "  </tbody>\n",
       "</table>\n",
       "</div>"
      ],
      "text/plain": [
       "Empty DataFrame\n",
       "Columns: [review_id, star_rating, helpful_votes, total_votes, vine, verified_purchase]\n",
       "Index: []"
      ]
     },
     "execution_count": 23,
     "metadata": {},
     "output_type": "execute_result"
    }
   ],
   "source": [
    "#Filter earlier dataframe to get all rows where a review was part of the Vine Program \"Y\"\n",
    "Program_df = fifty_df.loc[(fifty_df[\"vine\"] == \"Y\")]\n",
    "Program_df.head()"
   ]
  },
  {
   "cell_type": "code",
   "execution_count": 24,
   "id": "8bc874f2",
   "metadata": {},
   "outputs": [
    {
     "data": {
      "text/plain": [
       "N    3639\n",
       "Name: vine, dtype: int64"
      ]
     },
     "execution_count": 24,
     "metadata": {},
     "output_type": "execute_result"
    }
   ],
   "source": [
    "#Double check to make sure there were in fact 0 vine program reviews\n",
    "fifty_df['vine'].value_counts()"
   ]
  },
  {
   "cell_type": "code",
   "execution_count": 25,
   "id": "c5843029",
   "metadata": {},
   "outputs": [
    {
     "data": {
      "text/html": [
       "<div>\n",
       "<style scoped>\n",
       "    .dataframe tbody tr th:only-of-type {\n",
       "        vertical-align: middle;\n",
       "    }\n",
       "\n",
       "    .dataframe tbody tr th {\n",
       "        vertical-align: top;\n",
       "    }\n",
       "\n",
       "    .dataframe thead th {\n",
       "        text-align: right;\n",
       "    }\n",
       "</style>\n",
       "<table border=\"1\" class=\"dataframe\">\n",
       "  <thead>\n",
       "    <tr style=\"text-align: right;\">\n",
       "      <th></th>\n",
       "      <th>review_id</th>\n",
       "      <th>star_rating</th>\n",
       "      <th>helpful_votes</th>\n",
       "      <th>total_votes</th>\n",
       "      <th>vine</th>\n",
       "      <th>verified_purchase</th>\n",
       "    </tr>\n",
       "  </thead>\n",
       "  <tbody>\n",
       "    <tr>\n",
       "      <th>168</th>\n",
       "      <td>R2SHXRL6SL1GC9</td>\n",
       "      <td>3.0</td>\n",
       "      <td>25.0</td>\n",
       "      <td>26.0</td>\n",
       "      <td>N</td>\n",
       "      <td>Y</td>\n",
       "    </tr>\n",
       "    <tr>\n",
       "      <th>521</th>\n",
       "      <td>R2ZC033X86YOY8</td>\n",
       "      <td>5.0</td>\n",
       "      <td>25.0</td>\n",
       "      <td>26.0</td>\n",
       "      <td>N</td>\n",
       "      <td>N</td>\n",
       "    </tr>\n",
       "    <tr>\n",
       "      <th>761</th>\n",
       "      <td>R2736RJGCOSL80</td>\n",
       "      <td>5.0</td>\n",
       "      <td>19.0</td>\n",
       "      <td>20.0</td>\n",
       "      <td>N</td>\n",
       "      <td>Y</td>\n",
       "    </tr>\n",
       "    <tr>\n",
       "      <th>1163</th>\n",
       "      <td>RRY5DJ6J9BKAX</td>\n",
       "      <td>5.0</td>\n",
       "      <td>19.0</td>\n",
       "      <td>21.0</td>\n",
       "      <td>N</td>\n",
       "      <td>Y</td>\n",
       "    </tr>\n",
       "    <tr>\n",
       "      <th>1169</th>\n",
       "      <td>R2P4PJJ2ROTPBM</td>\n",
       "      <td>5.0</td>\n",
       "      <td>46.0</td>\n",
       "      <td>48.0</td>\n",
       "      <td>N</td>\n",
       "      <td>N</td>\n",
       "    </tr>\n",
       "  </tbody>\n",
       "</table>\n",
       "</div>"
      ],
      "text/plain": [
       "           review_id  star_rating  helpful_votes  total_votes vine  \\\n",
       "168   R2SHXRL6SL1GC9          3.0           25.0         26.0    N   \n",
       "521   R2ZC033X86YOY8          5.0           25.0         26.0    N   \n",
       "761   R2736RJGCOSL80          5.0           19.0         20.0    N   \n",
       "1163   RRY5DJ6J9BKAX          5.0           19.0         21.0    N   \n",
       "1169  R2P4PJJ2ROTPBM          5.0           46.0         48.0    N   \n",
       "\n",
       "     verified_purchase  \n",
       "168                  Y  \n",
       "521                  N  \n",
       "761                  Y  \n",
       "1163                 Y  \n",
       "1169                 N  "
      ]
     },
     "execution_count": 25,
     "metadata": {},
     "output_type": "execute_result"
    }
   ],
   "source": [
    "#Same dataframe but get rows where the review was not part of the Vine Program \"N\"\n",
    "Non_Program_df = fifty_df.loc[(fifty_df[\"vine\"] == \"N\")]\n",
    "Non_Program_df.head()"
   ]
  },
  {
   "cell_type": "code",
   "execution_count": 46,
   "id": "996e3898",
   "metadata": {},
   "outputs": [
    {
     "data": {
      "text/plain": [
       "N    3639\n",
       "Name: vine, dtype: int64"
      ]
     },
     "execution_count": 46,
     "metadata": {},
     "output_type": "execute_result"
    }
   ],
   "source": [
    "#Determine the total number of reviews, the number of 5-star reviews, \n",
    "#and the percentage of 5-star reviews for the two types of review but in my case, just the unpaid\n",
    "fifty_df['vine'].value_counts()\n"
   ]
  },
  {
   "cell_type": "code",
   "execution_count": 47,
   "id": "06c80d8d",
   "metadata": {},
   "outputs": [
    {
     "data": {
      "text/html": [
       "<div>\n",
       "<style scoped>\n",
       "    .dataframe tbody tr th:only-of-type {\n",
       "        vertical-align: middle;\n",
       "    }\n",
       "\n",
       "    .dataframe tbody tr th {\n",
       "        vertical-align: top;\n",
       "    }\n",
       "\n",
       "    .dataframe thead th {\n",
       "        text-align: right;\n",
       "    }\n",
       "</style>\n",
       "<table border=\"1\" class=\"dataframe\">\n",
       "  <thead>\n",
       "    <tr style=\"text-align: right;\">\n",
       "      <th></th>\n",
       "      <th>review_id</th>\n",
       "      <th>star_rating</th>\n",
       "      <th>helpful_votes</th>\n",
       "      <th>total_votes</th>\n",
       "      <th>vine</th>\n",
       "      <th>verified_purchase</th>\n",
       "    </tr>\n",
       "  </thead>\n",
       "  <tbody>\n",
       "    <tr>\n",
       "      <th>521</th>\n",
       "      <td>R2ZC033X86YOY8</td>\n",
       "      <td>5.0</td>\n",
       "      <td>25.0</td>\n",
       "      <td>26.0</td>\n",
       "      <td>N</td>\n",
       "      <td>N</td>\n",
       "    </tr>\n",
       "    <tr>\n",
       "      <th>761</th>\n",
       "      <td>R2736RJGCOSL80</td>\n",
       "      <td>5.0</td>\n",
       "      <td>19.0</td>\n",
       "      <td>20.0</td>\n",
       "      <td>N</td>\n",
       "      <td>Y</td>\n",
       "    </tr>\n",
       "    <tr>\n",
       "      <th>1163</th>\n",
       "      <td>RRY5DJ6J9BKAX</td>\n",
       "      <td>5.0</td>\n",
       "      <td>19.0</td>\n",
       "      <td>21.0</td>\n",
       "      <td>N</td>\n",
       "      <td>Y</td>\n",
       "    </tr>\n",
       "    <tr>\n",
       "      <th>1169</th>\n",
       "      <td>R2P4PJJ2ROTPBM</td>\n",
       "      <td>5.0</td>\n",
       "      <td>46.0</td>\n",
       "      <td>48.0</td>\n",
       "      <td>N</td>\n",
       "      <td>N</td>\n",
       "    </tr>\n",
       "    <tr>\n",
       "      <th>1686</th>\n",
       "      <td>RRFZ7QZTRJC59</td>\n",
       "      <td>5.0</td>\n",
       "      <td>292.0</td>\n",
       "      <td>300.0</td>\n",
       "      <td>N</td>\n",
       "      <td>N</td>\n",
       "    </tr>\n",
       "  </tbody>\n",
       "</table>\n",
       "</div>"
      ],
      "text/plain": [
       "           review_id  star_rating  helpful_votes  total_votes vine  \\\n",
       "521   R2ZC033X86YOY8          5.0           25.0         26.0    N   \n",
       "761   R2736RJGCOSL80          5.0           19.0         20.0    N   \n",
       "1163   RRY5DJ6J9BKAX          5.0           19.0         21.0    N   \n",
       "1169  R2P4PJJ2ROTPBM          5.0           46.0         48.0    N   \n",
       "1686   RRFZ7QZTRJC59          5.0          292.0        300.0    N   \n",
       "\n",
       "     verified_purchase  \n",
       "521                  N  \n",
       "761                  Y  \n",
       "1163                 Y  \n",
       "1169                 N  \n",
       "1686                 N  "
      ]
     },
     "execution_count": 47,
     "metadata": {},
     "output_type": "execute_result"
    }
   ],
   "source": [
    "five_star_df = Non_Program_df.loc[(vine_df[\"star_rating\"] == 5.0)]\n",
    "five_star_df.head()"
   ]
  },
  {
   "cell_type": "code",
   "execution_count": 37,
   "id": "a975d527",
   "metadata": {},
   "outputs": [
    {
     "data": {
      "text/plain": [
       "5.0    2213\n",
       "Name: star_rating, dtype: int64"
      ]
     },
     "execution_count": 37,
     "metadata": {},
     "output_type": "execute_result"
    }
   ],
   "source": [
    "five_star_df[\"star_rating\"].value_counts()"
   ]
  },
  {
   "cell_type": "code",
   "execution_count": 44,
   "id": "8c723a99",
   "metadata": {},
   "outputs": [
    {
     "data": {
      "text/plain": [
       "[60.813410277548776]"
      ]
     },
     "execution_count": 44,
     "metadata": {},
     "output_type": "execute_result"
    }
   ],
   "source": [
    "percent_fivestar = [(2213/3639)*100]\n",
    "percent_fivestar"
   ]
  },
  {
   "cell_type": "code",
   "execution_count": null,
   "id": "7e07f80a",
   "metadata": {},
   "outputs": [],
   "source": []
  }
 ],
 "metadata": {
  "kernelspec": {
   "display_name": "PythonData",
   "language": "python",
   "name": "pythondata"
  },
  "language_info": {
   "codemirror_mode": {
    "name": "ipython",
    "version": 3
   },
   "file_extension": ".py",
   "mimetype": "text/x-python",
   "name": "python",
   "nbconvert_exporter": "python",
   "pygments_lexer": "ipython3",
   "version": "3.7.10"
  }
 },
 "nbformat": 4,
 "nbformat_minor": 5
}
